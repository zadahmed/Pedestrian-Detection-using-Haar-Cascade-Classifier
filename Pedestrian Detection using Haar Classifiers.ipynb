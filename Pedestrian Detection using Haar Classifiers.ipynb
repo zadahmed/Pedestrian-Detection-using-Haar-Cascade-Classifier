{
 "cells": [
  {
   "cell_type": "code",
   "execution_count": 1,
   "metadata": {},
   "outputs": [],
   "source": [
    "import sys\n",
    "import cv2\n",
    "import numpy as np"
   ]
  },
  {
   "cell_type": "code",
   "execution_count": 2,
   "metadata": {},
   "outputs": [],
   "source": [
    "#create a body classifier\n",
    "body_classifier = cv2.CascadeClassifier('C:\\\\Users\\\\Zahid\\\\Desktop\\\\Deep Learning\\\\haarcascade_fullbody.xml')\n",
    "\n",
    "#initiate video \n",
    "cap = cv2.VideoCapture('C:\\\\Users\\\\Zahid\\\\Desktop\\\\Deep Learning\\\\ped.mp4')\n",
    "\n",
    "while cap.isOpened():\n",
    "    \n",
    "    ret , frame = cap.read()\n",
    "    frame = cv2.resize(frame , None , fx=0.5 , fy=0.5 , interpolation = cv2.INTER_LINEAR) #resizing image and decrease resolution to increase speed of classifier\n",
    "    \n",
    "    gray = cv2.cvtColor(frame , cv2.COLOR_BGR2GRAY)\n",
    "    \n",
    "    bodies = body_classifier.detectMultiScale(gray , 1.2 ,3) #scaling factor and sensitive\n",
    "    \n",
    "    for(x , y , w ,h ) in bodies:\n",
    "        cv2.rectangle(frame , (x,y) , (x+w , y+h) , (0,255,255) , 2)\n",
    "        cv2.imshow('Pedestrians', frame)\n",
    "        \n",
    "    if cv2.waitKey(1) == 13:\n",
    "        break\n",
    "    \n",
    "    \n",
    "    \n",
    "cap.release()\n",
    "cv2.destroyAllWindows()"
   ]
  },
  {
   "cell_type": "code",
   "execution_count": null,
   "metadata": {},
   "outputs": [],
   "source": []
  }
 ],
 "metadata": {
  "kernelspec": {
   "display_name": "Python 3",
   "language": "python",
   "name": "python3"
  },
  "language_info": {
   "codemirror_mode": {
    "name": "ipython",
    "version": 3
   },
   "file_extension": ".py",
   "mimetype": "text/x-python",
   "name": "python",
   "nbconvert_exporter": "python",
   "pygments_lexer": "ipython3",
   "version": "3.7.1"
  }
 },
 "nbformat": 4,
 "nbformat_minor": 2
}
